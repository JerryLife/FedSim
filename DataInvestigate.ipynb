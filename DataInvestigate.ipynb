{
 "cells": [
  {
   "cell_type": "code",
   "execution_count": null,
   "metadata": {
    "collapsed": true,
    "pycharm": {
     "name": "#%%\n",
     "is_executing": true
    }
   },
   "outputs": [],
   "source": [
    "\n",
    "import recordlinkage.datasets\n",
    "import os\n",
    "import sys\n",
    "\n",
    "os.chdir(sys.path[0] + \"/../../../data/krebs\")  # change working directory\n",
    "os.environ[\"RL_DATA\"] = os.getcwd()     # set path of recordinglinkage dataset\n",
    "\n",
    "data = recordlinkage.datasets.load_krebsregister(block=1)\n"
   ]
  }
 ],
 "metadata": {
  "kernelspec": {
   "display_name": "Python 3",
   "language": "python",
   "name": "python3"
  },
  "language_info": {
   "codemirror_mode": {
    "name": "ipython",
    "version": 2
   },
   "file_extension": ".py",
   "mimetype": "text/x-python",
   "name": "python",
   "nbconvert_exporter": "python",
   "pygments_lexer": "ipython2",
   "version": "2.7.6"
  }
 },
 "nbformat": 4,
 "nbformat_minor": 0
}